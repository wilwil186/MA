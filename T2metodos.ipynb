{
  "nbformat": 4,
  "nbformat_minor": 0,
  "metadata": {
    "colab": {
      "provenance": [],
      "authorship_tag": "ABX9TyMdw7wmJubEWLOfGo9el9db",
      "include_colab_link": true
    },
    "kernelspec": {
      "name": "python3",
      "display_name": "Python 3"
    },
    "language_info": {
      "name": "python"
    }
  },
  "cells": [
    {
      "cell_type": "markdown",
      "metadata": {
        "id": "view-in-github",
        "colab_type": "text"
      },
      "source": [
        "<a href=\"https://colab.research.google.com/github/wilwil186/MAConPython/blob/main/T2metodos.ipynb\" target=\"_parent\"><img src=\"https://colab.research.google.com/assets/colab-badge.svg\" alt=\"Open In Colab\"/></a>"
      ]
    },
    {
      "cell_type": "markdown",
      "source": [
        "# Wilson Eduardo Jerez Hernández\n",
        "## 20181167034"
      ],
      "metadata": {
        "id": "T2Tsly-tAvah"
      }
    },
    {
      "cell_type": "markdown",
      "source": [
        "1. Construya un código lo más sencillo posible para hacer sustitución hacia atrás de una matriz triangular superior.\n"
      ],
      "metadata": {
        "id": "tgK00Eh5_qGD"
      }
    },
    {
      "cell_type": "code",
      "source": [
        "import numpy as np #importamos numpara para usar la función array \n",
        "#creamos una función que resiva como aprametros dos matrices\n",
        "def CMTSuperior(A,B):\n",
        "  for i in range(len(B)-1):\n",
        "    B[i]=B[i]/A[i][i]\n",
        "    A[i]=A[i]/A[i][i]\n",
        "    for k in range(i+1,N):\n",
        "      B[k]=B[k]-A[k][i]*B[i]\n",
        "      A[k]=A[k]-A[k][i]*A[i]\n",
        "  print('matriz de incognitas')\n",
        "  print(A)\n",
        "  print('matriz de coeficientes')\n",
        "  print(B)\n",
        "  \n",
        "  return (A,B)"
      ],
      "metadata": {
        "id": "SGqkkThqAftn"
      },
      "execution_count": 34,
      "outputs": []
    },
    {
      "cell_type": "markdown",
      "source": [
        "Posteriormente, contruya el código sencillo del método de gauus haciendo primero reducción a matriz triangular usando **pivoteo parcial** y luego usando la función de sustitución hacia atrás construida en el primer punto. "
      ],
      "metadata": {
        "id": "EyvfpPUsAsPV"
      }
    },
    {
      "cell_type": "code",
      "source": [
        "def SA(A,B): # la matriz A debe pasar primero por la función anterior\n",
        "  for i in reversed(range(N)): #ciclo en reversa\n",
        "    suma=np.sum(A[i][i+1:]*x[i+1:])\n",
        "    x[i]=B[i]-suma\n",
        "\n",
        "  print(\"solución\")\n",
        "  print(x)"
      ],
      "metadata": {
        "id": "AT-3f6ywA2VN"
      },
      "execution_count": 31,
      "outputs": []
    },
    {
      "cell_type": "markdown",
      "source": [
        "2. Resuelva el siguiente sistema de ecuaciones de manera manual usando pivoteo parcial y luego verifique su respuesta con el programa realizado en primer punto y agregue la salida del programa. "
      ],
      "metadata": {
        "id": "qhdHzYhpA6Na"
      }
    },
    {
      "cell_type": "code",
      "source": [
        "\n",
        "\n",
        "A = np.array([[80,-50,-30,0],\n",
        "              [-50,100,-10,-15],\n",
        "              [-30,-10,65,-20],\n",
        "              [0,-25,-20,100]])\n",
        "B = np.array([\n",
        "    [120],\n",
        "    [0],\n",
        "    [0],\n",
        "    [0]\n",
        "])\n",
        "CMTSuperior(A,B)"
      ],
      "metadata": {
        "colab": {
          "base_uri": "https://localhost:8080/",
          "height": 0
        },
        "id": "wi1wJKchKciq",
        "outputId": "8e3ff94b-9d3c-40dd-9003-d055c1894c5f"
      },
      "execution_count": 35,
      "outputs": [
        {
          "output_type": "stream",
          "name": "stdout",
          "text": [
            "matriz de incognitas\n",
            "[[  1   0   0   0]\n",
            " [  0   1   0   0]\n",
            " [  0   0   1   0]\n",
            " [  0   0   0 100]]\n",
            "matriz de coeficientes\n",
            "[[1]\n",
            " [0]\n",
            " [0]\n",
            " [0]]\n"
          ]
        },
        {
          "output_type": "execute_result",
          "data": {
            "text/plain": [
              "(array([[  1,   0,   0,   0],\n",
              "        [  0,   1,   0,   0],\n",
              "        [  0,   0,   1,   0],\n",
              "        [  0,   0,   0, 100]]), array([[1],\n",
              "        [0],\n",
              "        [0],\n",
              "        [0]]))"
            ]
          },
          "metadata": {},
          "execution_count": 35
        }
      ]
    },
    {
      "cell_type": "code",
      "source": [
        "SA(A,B)"
      ],
      "metadata": {
        "colab": {
          "base_uri": "https://localhost:8080/",
          "height": 0
        },
        "id": "7d2wHewJK8EP",
        "outputId": "bfca6839-57f6-4c54-8c95-905899a89172"
      },
      "execution_count": 37,
      "outputs": [
        {
          "output_type": "stream",
          "name": "stdout",
          "text": [
            "solución\n",
            "[1. 0. 0. 0.]\n"
          ]
        }
      ]
    },
    {
      "cell_type": "markdown",
      "source": [
        "3. Use el programa de Muller para hallar una raiz del polinomio $x^{3}-13x-12$ partiendo de los puntos semilla $x_{0}=4.5,x_{1}=5.5,x_{2}=5$ tenga en cuenta que el error relativo sea menor o igual a $0.03\\%$. ¿Cuántas iteraciones realizó para alcanzar la aproximación?"
      ],
      "metadata": {
        "id": "G-0m7P5PLTe1"
      }
    },
    {
      "cell_type": "code",
      "source": [
        "from numpy import sign\n",
        "from numpy.lib.scimath import sqrt\n",
        "\n",
        "\n",
        "def muller(f, x0, x1, x2, tol):\n",
        "    error = 1e3\n",
        "    x3 = 0\n",
        "    while error > tol:\n",
        "        c = f(x2)\n",
        "        b = ((x0 - x2)**2 * (f(x1) - f(x2)) - (x1 - x2)**2 *\n",
        "             (f(x0) - f(x2))) / ((x0 - x2) * (x1 - x2) * (x0 - x1))\n",
        "        a = ((x1 - x2) * (f(x0) - f(x2)) - (x0 - x2) *\n",
        "             (f(x1) - f(x2))) / ((x0 - x2) * (x1 - x2) * (x0 - x1))\n",
        "        x3 = x2 - (2 * c) / (b + sign(b) * sqrt(b**2 - 4 * a * c))\n",
        "        error = abs(x3 - x2)\n",
        "        x0 = x1\n",
        "        x1 = x2\n",
        "        x2 = x3\n",
        "    return x3"
      ],
      "metadata": {
        "id": "SUg20GC-MjbR"
      },
      "execution_count": 38,
      "outputs": []
    },
    {
      "cell_type": "code",
      "source": [
        "f = lambda x: x**3-13*x-12\n",
        "x0 = 4.5\n",
        "x1 = 5.5 \n",
        "x2 = 5\n",
        "tol = 0.03/100\n",
        "muller(f,x0,x1,x2,tol)"
      ],
      "metadata": {
        "colab": {
          "base_uri": "https://localhost:8080/",
          "height": 0
        },
        "id": "K4OxfAxVM1Y2",
        "outputId": "3d7381de-8f44-408a-ff93-3004a3f71ea4"
      },
      "execution_count": 41,
      "outputs": [
        {
          "output_type": "execute_result",
          "data": {
            "text/plain": [
              "4.000000000000497"
            ]
          },
          "metadata": {},
          "execution_count": 41
        }
      ]
    }
  ]
}